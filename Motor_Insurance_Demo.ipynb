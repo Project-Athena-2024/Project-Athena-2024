{
  "nbformat": 4,
  "nbformat_minor": 0,
  "metadata": {
    "colab": {
      "provenance": [],
      "authorship_tag": "ABX9TyNEzU/9Yl1JV6pgSii4pL1n",
      "include_colab_link": true
    },
    "kernelspec": {
      "name": "python3",
      "display_name": "Python 3"
    },
    "language_info": {
      "name": "python"
    }
  },
  "cells": [
    {
      "cell_type": "markdown",
      "metadata": {
        "id": "view-in-github",
        "colab_type": "text"
      },
      "source": [
        "<a href=\"https://colab.research.google.com/github/Project-Athena-2024/Project-Athena-2024/blob/main/Motor_Insurance_Demo.ipynb\" target=\"_parent\"><img src=\"https://colab.research.google.com/assets/colab-badge.svg\" alt=\"Open In Colab\"/></a>"
      ]
    },
    {
      "cell_type": "code",
      "execution_count": null,
      "metadata": {
        "id": "o-PogJ6x7kPR"
      },
      "outputs": [],
      "source": []
    },
    {
      "cell_type": "markdown",
      "source": [
        "`<p style=\"color: #87CEEB;\">Does Google Markdown text cells support HTML?</p>\\`"
      ],
      "metadata": {
        "id": "tzQzn75vTHGQ"
      }
    },
    {
      "cell_type": "code",
      "source": [
        "# Sample Integration between SQL and Python.\n",
        "\n",
        "## This excercise is focused on the motor market\n",
        "\n",
        "## Similar concepts are possible with MySQL, Databricks, Pyspark, Microsoft SQL Sever etc."
      ],
      "metadata": {
        "id": "FqIXw1KuTwtH"
      },
      "execution_count": 1,
      "outputs": []
    },
    {
      "cell_type": "code",
      "source": [],
      "metadata": {
        "id": "ytNgiGbBU6b0"
      },
      "execution_count": null,
      "outputs": []
    },
    {
      "cell_type": "markdown",
      "source": [],
      "metadata": {
        "id": "BlIJv7bXVNSH"
      }
    },
    {
      "cell_type": "markdown",
      "source": [
        ":::::::It us also possible to operate similar real data/code into other platfroms Azure, AWS Google cloud, the concepts are the same - syntax would need editing, and other lines of code to create conectio etc would be required.\n",
        "\n"
      ],
      "metadata": {
        "id": "SfE1SM7_VOqM"
      }
    },
    {
      "cell_type": "code",
      "source": [],
      "metadata": {
        "id": "5UTjl8k6VYbW"
      },
      "execution_count": null,
      "outputs": []
    }
  ]
}